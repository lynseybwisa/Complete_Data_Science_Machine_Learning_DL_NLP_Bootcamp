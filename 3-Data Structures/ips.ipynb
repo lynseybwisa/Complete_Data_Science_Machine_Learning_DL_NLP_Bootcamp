{
 "cells": [
  {
   "cell_type": "code",
   "execution_count": 18,
   "metadata": {},
   "outputs": [
    {
     "name": "stdout",
     "output_type": "stream",
     "text": [
      "'102.163.045.234',\n"
     ]
    }
   ],
   "source": [
    "def format_ip_addresses(ip_addresses):\n",
    "   # Split input into lines and remove empty lines\n",
    "   ips = [ip.strip() for ip in ip_addresses.split(\"\\n\") if ip.strip()]\n",
    "   formatted_ips = []\n",
    "   for ip in ips:\n",
    "       octets = ip.split(\".\")\n",
    "       # Ensure there are exactly 4 octets and convert them properly\n",
    "       if len(octets) == 4:\n",
    "           formatted_octets = [f\"{int(octet):03}\" for octet in octets]\n",
    "           formatted_ip = \".\".join(formatted_octets)\n",
    "           formatted_ips.append(f\"'{formatted_ip}',\")\n",
    "   return \"\\n\".join(formatted_ips)\n",
    "# Example input\n",
    "input_str = \"\"\"\n",
    "102.163.45.234\n",
    "\"\"\"\n",
    "# Call the function and print the output\n",
    "output_str = format_ip_addresses(input_str.strip())\n",
    "print(output_str)"
   ]
  }
 ],
 "metadata": {
  "kernelspec": {
   "display_name": "venv",
   "language": "python",
   "name": "python3"
  },
  "language_info": {
   "codemirror_mode": {
    "name": "ipython",
    "version": 3
   },
   "file_extension": ".py",
   "mimetype": "text/x-python",
   "name": "python",
   "nbconvert_exporter": "python",
   "pygments_lexer": "ipython3",
   "version": "3.10.16"
  }
 },
 "nbformat": 4,
 "nbformat_minor": 2
}
